{
 "cells": [
  {
   "cell_type": "code",
   "execution_count": 1,
   "metadata": {},
   "outputs": [
    {
     "name": "stderr",
     "output_type": "stream",
     "text": [
      "/usr/local/lib/python3.5/dist-packages/h5py/__init__.py:36: FutureWarning: Conversion of the second argument of issubdtype from `float` to `np.floating` is deprecated. In future, it will be treated as `np.float64 == np.dtype(float).type`.\n",
      "  from ._conv import register_converters as _register_converters\n"
     ]
    }
   ],
   "source": [
    "import numpy as np\n",
    "import tensorflow as tf"
   ]
  },
  {
   "cell_type": "code",
   "execution_count": 3,
   "metadata": {},
   "outputs": [],
   "source": [
    "random_state = np.random.RandomState(seed=0)"
   ]
  },
  {
   "cell_type": "code",
   "execution_count": 8,
   "metadata": {},
   "outputs": [],
   "source": [
    "mu_X = 3.0\n",
    "sd_X = 10.0\n",
    "sd_e = 5.0\n",
    "B = 0.5\n",
    "N_samples = 4"
   ]
  },
  {
   "cell_type": "code",
   "execution_count": 42,
   "metadata": {},
   "outputs": [
    {
     "name": "stdout",
     "output_type": "stream",
     "text": [
      "[ -4.25597378 -10.83363955 -12.82938397   9.10379379]\n",
      "<class 'numpy.ndarray'> (4,) float64\n"
     ]
    }
   ],
   "source": [
    "def my_input_fn():\n",
    "    X = random_state.normal(loc=mu_X, scale=sd_X, size=N_samples)\n",
    "    e = random_state.normal(loc=0, scale=sd_e, size=N_samples)\n",
    "    y = X * B + e\n",
    "    return X, y\n",
    "\n",
    "X, y = my_input_fn()\n",
    "print(X)\n",
    "print(type(X), X.shape, X.dtype)"
   ]
  },
  {
   "cell_type": "code",
   "execution_count": null,
   "metadata": {},
   "outputs": [],
   "source": [
    "estimator = LinearRegressor(\n",
    "    input_fn=my_input_fn,\n",
    "    \n",
    ")"
   ]
  },
  {
   "cell_type": "code",
   "execution_count": 51,
   "metadata": {},
   "outputs": [
    {
     "data": {
      "text/plain": [
       "array([[0.73408278, 5.06063195],\n",
       "       [0.82441094, 5.04509345],\n",
       "       [0.93159891, 5.16595508],\n",
       "       [1.10685094, 4.95466142],\n",
       "       [0.93121624, 4.87859226]])"
      ]
     },
     "execution_count": 51,
     "metadata": {},
     "output_type": "execute_result"
    }
   ],
   "source": [
    "random_state.normal(\n",
    "    loc=(1, 5),\n",
    "    scale=(0.1, 0.1),\n",
    "    size=(5, 2)\n",
    ")"
   ]
  },
  {
   "cell_type": "code",
   "execution_count": null,
   "metadata": {},
   "outputs": [],
   "source": []
  }
 ],
 "metadata": {
  "kernelspec": {
   "display_name": "Python 3",
   "language": "python",
   "name": "python3"
  },
  "language_info": {
   "codemirror_mode": {
    "name": "ipython",
    "version": 3
   },
   "file_extension": ".py",
   "mimetype": "text/x-python",
   "name": "python",
   "nbconvert_exporter": "python",
   "pygments_lexer": "ipython3",
   "version": "3.5.2"
  }
 },
 "nbformat": 4,
 "nbformat_minor": 2
}
